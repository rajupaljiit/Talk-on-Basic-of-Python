{
 "cells": [
  {
   "cell_type": "markdown",
   "metadata": {
    "colab_type": "text",
    "id": "eaNq4Gmi9Qic"
   },
   "source": [
    "## Basics Of Python - Part 2 (Loops)\n",
    "#### Content\n",
    "1. While Loop\n",
    "2. For Loop\n",
    "\n",
    "\n",
    "##### Note: \n",
    "1. First Clean the Evironment (Go to \"Kernel\" Menu --> \"Restart & Clean Output\"\n",
    "2. To execute the code --> Click on a cell and press cntrl + enter key"
   ]
  },
  {
   "cell_type": "markdown",
   "metadata": {
    "colab_type": "text",
    "id": "y3VrvYW2-6Ka"
   },
   "source": [
    "# 1: While Loop"
   ]
  },
  {
   "cell_type": "markdown",
   "metadata": {
    "colab_type": "text",
    "id": "DKG2TBw7Yhov"
   },
   "source": [
    "### 1.1: While Loop (print 1 to 10)"
   ]
  },
  {
   "cell_type": "code",
   "execution_count": 1,
   "metadata": {
    "colab": {},
    "colab_type": "code",
    "id": "eikxCFcN-7AR"
   },
   "outputs": [
    {
     "name": "stdout",
     "output_type": "stream",
     "text": [
      "1\n",
      "2\n",
      "3\n",
      "4\n",
      "5\n",
      "6\n",
      "7\n",
      "8\n",
      "9\n",
      "10\n"
     ]
    }
   ],
   "source": [
    "#------------------------------------------------------------------------\n",
    "# 1.1: While Loop (print 1 to 10)\n",
    "#------------------------------------------------------------------------\n",
    "i = 1\n",
    "while i <= 10:\n",
    "    print (i)\n",
    "    i = i + 1\n"
   ]
  },
  {
   "cell_type": "markdown",
   "metadata": {
    "colab_type": "text",
    "id": "4DUHeUwlYho0"
   },
   "source": [
    "### 1.2: While Loop (print 10 to 1)"
   ]
  },
  {
   "cell_type": "code",
   "execution_count": 2,
   "metadata": {
    "colab": {},
    "colab_type": "code",
    "id": "mApZr0VjYho0"
   },
   "outputs": [
    {
     "name": "stdout",
     "output_type": "stream",
     "text": [
      "10\n",
      "9\n",
      "8\n",
      "7\n",
      "6\n",
      "5\n",
      "4\n",
      "3\n",
      "2\n",
      "1\n"
     ]
    }
   ],
   "source": [
    "#------------------------------------------------------------------------\n",
    "# 1.2: While Loop (print 10 to 1)\n",
    "#------------------------------------------------------------------------\n",
    "i = 10\n",
    "while i > 0:\n",
    "    print (i)\n",
    "    i = i - 1\n"
   ]
  },
  {
   "cell_type": "code",
   "execution_count": 3,
   "metadata": {
    "colab": {},
    "colab_type": "code",
    "id": "TtwFTzw6Yho3"
   },
   "outputs": [
    {
     "name": "stdout",
     "output_type": "stream",
     "text": [
      "10\n",
      "9\n",
      "8\n",
      "7\n",
      "6\n",
      "5\n",
      "4\n",
      "3\n",
      "2\n",
      "1\n"
     ]
    }
   ],
   "source": [
    "#------------------------------------------------------------------------\n",
    "# 1.2: While Loop (print 10 to 1)\n",
    "#------------------------------------------------------------------------\n",
    "i = 10\n",
    "while (i > 0):\n",
    "    print (i)\n",
    "    i -= 1\n",
    "    x = 80    # With in the loop\n",
    "y = 90        # Out of the loop\n"
   ]
  },
  {
   "cell_type": "markdown",
   "metadata": {
    "colab_type": "text",
    "id": "IaiOvz8a_1XO"
   },
   "source": [
    "# 2: Range Function"
   ]
  },
  {
   "cell_type": "markdown",
   "metadata": {
    "colab_type": "text",
    "id": "jLwT6UJvYho6"
   },
   "source": [
    "### 2.1: Range Function"
   ]
  },
  {
   "cell_type": "code",
   "execution_count": 4,
   "metadata": {
    "colab": {},
    "colab_type": "code",
    "id": "xH_EwyuKYho6"
   },
   "outputs": [
    {
     "data": {
      "text/plain": [
       "[0, 1, 2, 3, 4, 5, 6, 7, 8, 9]"
      ]
     },
     "execution_count": 4,
     "metadata": {},
     "output_type": "execute_result"
    }
   ],
   "source": [
    "#------------------------------------------------------------------------\n",
    "# 2.1: Range Function\n",
    "#------------------------------------------------------------------------\n",
    "range(10)  # No output; Only print function\n"
   ]
  },
  {
   "cell_type": "code",
   "execution_count": 5,
   "metadata": {
    "colab": {},
    "colab_type": "code",
    "id": "VkusMY-rYho9"
   },
   "outputs": [
    {
     "data": {
      "text/plain": [
       "[0, 1, 2, 3, 4, 5, 6, 7, 8, 9]"
      ]
     },
     "execution_count": 5,
     "metadata": {},
     "output_type": "execute_result"
    }
   ],
   "source": [
    "#------------------------------------------------------------------------\n",
    "# 2.2: Range Function\n",
    "#------------------------------------------------------------------------\n",
    "list(range(10)) # A list will print\n"
   ]
  },
  {
   "cell_type": "code",
   "execution_count": 6,
   "metadata": {
    "colab": {},
    "colab_type": "code",
    "id": "mMqA5Y1RYho_"
   },
   "outputs": [
    {
     "name": "stdout",
     "output_type": "stream",
     "text": [
      "('range(10)         --> ', [0, 1, 2, 3, 4, 5, 6, 7, 8, 9])\n",
      "('range(0,20)       --> ', [0, 1, 2, 3, 4, 5, 6, 7, 8, 9, 10, 11, 12, 13, 14, 15, 16, 17, 18, 19])\n",
      "('range(10,20)      --> ', [10, 11, 12, 13, 14, 15, 16, 17, 18, 19])\n",
      "('range(0,20,2)     --> ', [0, 2, 4, 6, 8, 10, 12, 14, 16, 18])\n",
      "('range(-10,-20,2)  --> ', [])\n",
      "('range(-10,-20,-2) --> ', [-10, -12, -14, -16, -18])\n"
     ]
    }
   ],
   "source": [
    "#------------------------------------------------------------------------\n",
    "# 2.3: Range Function\n",
    "#------------------------------------------------------------------------\n",
    "print (\"range(10)         --> \", list(range(10)))\n",
    "print (\"range(0,20)       --> \", list(range(0,20)))\n",
    "print (\"range(10,20)      --> \", list(range(10,20)))\n",
    "print (\"range(0,20,2)     --> \", list(range(0,20,2)))\n",
    "print (\"range(-10,-20,2)  --> \", list(range(-10,-20,2)))\n",
    "print (\"range(-10,-20,-2) --> \", list(range(-10,-20,-2)))\n"
   ]
  },
  {
   "cell_type": "markdown",
   "metadata": {
    "colab_type": "text",
    "id": "2370SaUuD5C0"
   },
   "source": [
    "# 3: For Loop"
   ]
  },
  {
   "cell_type": "markdown",
   "metadata": {
    "colab_type": "text",
    "id": "NsMlD8PwYhpD"
   },
   "source": [
    "### 3.1: For loop (print 1 to 10)"
   ]
  },
  {
   "cell_type": "code",
   "execution_count": 7,
   "metadata": {
    "colab": {},
    "colab_type": "code",
    "id": "s17fJXzAYhpD"
   },
   "outputs": [
    {
     "name": "stdout",
     "output_type": "stream",
     "text": [
      "0\n",
      "1\n",
      "2\n",
      "3\n",
      "4\n",
      "5\n",
      "6\n",
      "7\n",
      "8\n",
      "9\n"
     ]
    }
   ],
   "source": [
    "#------------------------------------------------------------------------\n",
    "# 3.1: For loop (print 1 to 10)\n",
    "#------------------------------------------------------------------------\n",
    "for i in range(0,10):\n",
    "    print (i)\n"
   ]
  },
  {
   "cell_type": "markdown",
   "metadata": {
    "colab_type": "text",
    "id": "YMJptNRnYhpI"
   },
   "source": [
    "### 3.2: For loop (print 1 to 20 with increment of 2)"
   ]
  },
  {
   "cell_type": "code",
   "execution_count": 8,
   "metadata": {
    "colab": {},
    "colab_type": "code",
    "id": "vctkxbJSYhpI"
   },
   "outputs": [
    {
     "name": "stdout",
     "output_type": "stream",
     "text": [
      "0\n",
      "2\n",
      "4\n",
      "6\n",
      "8\n",
      "10\n",
      "12\n",
      "14\n",
      "16\n",
      "18\n",
      "20\n"
     ]
    }
   ],
   "source": [
    "#------------------------------------------------------------------------\n",
    "# 3.2: For loop (print 1 to 20 with increment of 2)\n",
    "#------------------------------------------------------------------------\n",
    "for i in range(0,21,2):\n",
    "    print (i)\n"
   ]
  },
  {
   "cell_type": "markdown",
   "metadata": {
    "colab_type": "text",
    "id": "sXmz8a1EYhpL"
   },
   "source": [
    "### 3.3: For loop (print 0 to -10)"
   ]
  },
  {
   "cell_type": "code",
   "execution_count": null,
   "metadata": {
    "colab": {},
    "colab_type": "code",
    "id": "OYKWxy3KYhpL"
   },
   "outputs": [],
   "source": [
    "#------------------------------------------------------------------------\n",
    "# 3.3: For loop (print 0 to -10)\n",
    "#------------------------------------------------------------------------\n",
    "for i in range(0,-10,1):\n",
    "    print (i)\n",
    "\n",
    "## No Output; Why ??\n"
   ]
  },
  {
   "cell_type": "markdown",
   "metadata": {
    "colab_type": "text",
    "id": "jMzJBaC7YhpN"
   },
   "source": [
    "### 3.4: For loop (print 0 to -10)"
   ]
  },
  {
   "cell_type": "code",
   "execution_count": 9,
   "metadata": {
    "colab": {},
    "colab_type": "code",
    "id": "9WmuOueYYhpN"
   },
   "outputs": [
    {
     "name": "stdout",
     "output_type": "stream",
     "text": [
      "0\n",
      "-1\n",
      "-2\n",
      "-3\n",
      "-4\n",
      "-5\n",
      "-6\n",
      "-7\n",
      "-8\n",
      "-9\n"
     ]
    }
   ],
   "source": [
    "#------------------------------------------------------------------------\n",
    "# 3.4: For loop (print 0 to -10)\n",
    "#------------------------------------------------------------------------\n",
    "for i in range(0,-10,-1):\n",
    "    print (i)\n"
   ]
  },
  {
   "cell_type": "markdown",
   "metadata": {
    "colab_type": "text",
    "id": "ERHOk9o9YhpQ"
   },
   "source": [
    "### 3.5: Print table of 5"
   ]
  },
  {
   "cell_type": "code",
   "execution_count": 10,
   "metadata": {
    "colab": {},
    "colab_type": "code",
    "id": "SmTmLfmkYhpR"
   },
   "outputs": [
    {
     "name": "stdout",
     "output_type": "stream",
     "text": [
      "(5, ' * ', 1, ' = ', 5)\n",
      "(5, ' * ', 2, ' = ', 10)\n",
      "(5, ' * ', 3, ' = ', 15)\n",
      "(5, ' * ', 4, ' = ', 20)\n",
      "(5, ' * ', 5, ' = ', 25)\n",
      "(5, ' * ', 6, ' = ', 30)\n",
      "(5, ' * ', 7, ' = ', 35)\n",
      "(5, ' * ', 8, ' = ', 40)\n",
      "(5, ' * ', 9, ' = ', 45)\n",
      "(5, ' * ', 10, ' = ', 50)\n"
     ]
    }
   ],
   "source": [
    "#------------------------------------------------------------------------\n",
    "# 3.5: Print table of 5\n",
    "#------------------------------------------------------------------------\n",
    "for i in range(1,11):\n",
    "    print (5,\" * \", i , \" = \", i * 5)\n"
   ]
  },
  {
   "cell_type": "markdown",
   "metadata": {
    "colab_type": "text",
    "id": "kRa_5VnuYhpT"
   },
   "source": [
    "### 3.6: Sum all numbers from 1 to 10"
   ]
  },
  {
   "cell_type": "code",
   "execution_count": 11,
   "metadata": {
    "colab": {},
    "colab_type": "code",
    "id": "sUK0z2SAYhpT"
   },
   "outputs": [
    {
     "name": "stdout",
     "output_type": "stream",
     "text": [
      "('Sum is --> ', 55)\n"
     ]
    }
   ],
   "source": [
    "#------------------------------------------------------------------------\n",
    "# 3.6: Sum all numbers from 1 to 10\n",
    "#------------------------------------------------------------------------\n",
    "s = 0\n",
    "for i in range(1,11):\n",
    "    s = s + i\n",
    "print (\"Sum is --> \",s)\n"
   ]
  },
  {
   "cell_type": "markdown",
   "metadata": {
    "colab_type": "text",
    "id": "x5R8lgjuYhpV"
   },
   "source": [
    "### 3.7: Sum all numbers from 1 to 10"
   ]
  },
  {
   "cell_type": "code",
   "execution_count": null,
   "metadata": {
    "colab": {},
    "colab_type": "code",
    "id": "hoAc5WlRYhpW"
   },
   "outputs": [],
   "source": [
    "#------------------------------------------------------------------------\n",
    "# 3.7: Sum all numbers from 1 to 10\n",
    "#------------------------------------------------------------------------\n",
    "print (\"Sum is --> \", sum(range(1,11)))\n"
   ]
  },
  {
   "cell_type": "markdown",
   "metadata": {
    "colab_type": "text",
    "id": "p44H9zeaYhpY"
   },
   "source": [
    "##### Assingment 3.1: WAP to print the table of 7, 9.\n",
    "##### Assingment 3.2: WAP to print the table of n and n is given by user.\n",
    "##### Assingment 3.3: WAP to add all the numbers from 1 to n and n is given by user."
   ]
  },
  {
   "cell_type": "markdown",
   "metadata": {
    "colab_type": "text",
    "id": "CdJ_MktqYhpZ"
   },
   "source": [
    "# 4: Miscellaneous Example"
   ]
  },
  {
   "cell_type": "markdown",
   "metadata": {
    "colab_type": "text",
    "id": "ov5-EbnHYhpZ"
   },
   "source": [
    "### 4.1: Prime Number"
   ]
  },
  {
   "cell_type": "code",
   "execution_count": null,
   "metadata": {
    "colab": {},
    "colab_type": "code",
    "id": "W5ZovM2qYhpa"
   },
   "outputs": [],
   "source": [
    "#------------------------------------------------------------------------\n",
    "# 4.1: Prime Number\n",
    "#------------------------------------------------------------------------\n",
    "n = int(input(\"Enter a No: \"))\n",
    "f = 0\n",
    "for i in range(2, int(1 + n/2)):\n",
    "    if  n % i == 0: \n",
    "        f = 1\n",
    "        break\n",
    "\n",
    "if f == 0:\n",
    "    print (\"Prime\")\n",
    "else:\n",
    "    print (\"Not Prime\")\n"
   ]
  },
  {
   "cell_type": "markdown",
   "metadata": {
    "colab_type": "text",
    "id": "ktrXwBssYhpc"
   },
   "source": [
    "### 4.2: Fibonacci Series"
   ]
  },
  {
   "cell_type": "code",
   "execution_count": null,
   "metadata": {
    "colab": {},
    "colab_type": "code",
    "id": "xdF4-g5EYhpd"
   },
   "outputs": [],
   "source": [
    "#------------------------------------------------------------------------\n",
    "# 4.2 Fibonacci Series\n",
    "#------------------------------------------------------------------------\n",
    "n = 10\n",
    "\n",
    "a = 0\n",
    "b = 1\n",
    "\n",
    "print (a)\n",
    "print (b)\n",
    "for i in range(n):\n",
    "    c = a + b\n",
    "    print (c)\n",
    "    a = b\n",
    "    b = c\n"
   ]
  }
 ],
 "metadata": {
  "colab": {
   "collapsed_sections": [],
   "name": "Day03 - Basics Of Python - Part 2 (Loops, Functions, Math Library, Strings).ipynb",
   "provenance": []
  },
  "kernelspec": {
   "display_name": "Python 2",
   "language": "python",
   "name": "python2"
  },
  "language_info": {
   "codemirror_mode": {
    "name": "ipython",
    "version": 2
   },
   "file_extension": ".py",
   "mimetype": "text/x-python",
   "name": "python",
   "nbconvert_exporter": "python",
   "pygments_lexer": "ipython2",
   "version": "2.7.15"
  }
 },
 "nbformat": 4,
 "nbformat_minor": 1
}
