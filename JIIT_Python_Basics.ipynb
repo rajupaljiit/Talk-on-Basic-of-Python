{
 "cells": [
  {
   "cell_type": "markdown",
   "metadata": {
    "colab_type": "text",
    "id": "eaNq4Gmi9Qic"
   },
   "source": [
    "## Basics Of Python - Part 1 (Syntax, Operators, Variable, if-else)\n",
    "#### Content\n",
    "1. Python basics syntax\n",
    "2. Variable Declaration\n",
    "3. Arithmetic Operators (+, -, *, /, //, %, **)\n",
    "4. Bitwise Operators (&, |, ^, >>, <<, ~)\n",
    "5. Comparison Operator (==, !=, >, <, >=, <=)\n",
    "6. Assignment Operators (=, +=, -=, /=, //= etc.)\n",
    "7. Logical Operators (and, or, not)\n",
    "8. Identity Operators (is, is not)\n",
    "9. Membership Operators (in, not in)\n",
    "10. if-else\n",
    "\n",
    "##### Note: \n",
    "1. First Clean the Evironment (Go to \"Kernel\" Menu --> \"Restart & Clean Output\"\n",
    "2. To execute the code --> Click on a cell and press cntrl + enter key"
   ]
  },
  {
   "cell_type": "markdown",
   "metadata": {
    "colab_type": "text",
    "id": "y3VrvYW2-6Ka"
   },
   "source": [
    "# 1: Lets start Python !!\n"
   ]
  },
  {
   "cell_type": "markdown",
   "metadata": {
    "colab_type": "text",
    "id": "fBdleuCqjFb-"
   },
   "source": [
    "### 1.1: Hello World !!"
   ]
  },
  {
   "cell_type": "code",
   "execution_count": 2,
   "metadata": {
    "colab": {
     "base_uri": "https://localhost:8080/",
     "height": 36
    },
    "colab_type": "code",
    "id": "eikxCFcN-7AR",
    "outputId": "34db3b6b-631b-49d8-c73b-dac8890892f0",
    "scrolled": true
   },
   "outputs": [
    {
     "name": "stdout",
     "output_type": "stream",
     "text": [
      "Raju Pal\n"
     ]
    }
   ],
   "source": [
    "#------------------------------------------------------------------------\n",
    "# 1.1: Hello World !!\n",
    "#------------------------------------------------------------------------\n",
    "print (\"Raju Pal\")\n"
   ]
  },
  {
   "cell_type": "markdown",
   "metadata": {
    "colab_type": "text",
    "id": "xfdO0Uz2_Q75"
   },
   "source": [
    "#### Assingment 1.1: WAP to print your name two times"
   ]
  },
  {
   "cell_type": "markdown",
   "metadata": {
    "colab_type": "text",
    "id": "C5AE9hUVAYR6"
   },
   "source": [
    "### 1.2: Variable declaration and print it"
   ]
  },
  {
   "cell_type": "code",
   "execution_count": null,
   "metadata": {
    "colab": {},
    "colab_type": "code",
    "id": "k4ZjMmqevFbQ",
    "scrolled": true
   },
   "outputs": [],
   "source": []
  },
  {
   "cell_type": "code",
   "execution_count": 3,
   "metadata": {
    "colab": {
     "base_uri": "https://localhost:8080/",
     "height": 36
    },
    "colab_type": "code",
    "id": "tx-xhkqGjFcU",
    "outputId": "f53b8b08-44fd-4a10-f706-b8ee4f38ff09",
    "scrolled": true
   },
   "outputs": [],
   "source": [
    "a = 300        # Assignment; No output"
   ]
  },
  {
   "cell_type": "code",
   "execution_count": 4,
   "metadata": {
    "colab": {
     "base_uri": "https://localhost:8080/",
     "height": 36
    },
    "colab_type": "code",
    "id": "siEvAvPhjFcc",
    "outputId": "1b18cdda-49b1-4d5b-f436-e6c7c250c127",
    "scrolled": true
   },
   "outputs": [
    {
     "data": {
      "text/plain": [
       "300"
      ]
     },
     "execution_count": 4,
     "metadata": {},
     "output_type": "execute_result"
    }
   ],
   "source": [
    "a              # Print the value of a"
   ]
  },
  {
   "cell_type": "code",
   "execution_count": 4,
   "metadata": {
    "colab": {
     "base_uri": "https://localhost:8080/",
     "height": 36
    },
    "colab_type": "code",
    "id": "C70LC2NBjFck",
    "outputId": "609d5170-63a4-4fdb-a8d0-77d55a180910",
    "scrolled": true
   },
   "outputs": [
    {
     "data": {
      "text/plain": [
       "'Shyam'"
      ]
     },
     "execution_count": 4,
     "metadata": {},
     "output_type": "execute_result"
    }
   ],
   "source": [
    "b = \"Shyam\"    # Assignment; No output\n",
    "b"
   ]
  },
  {
   "cell_type": "code",
   "execution_count": 5,
   "metadata": {
    "colab": {},
    "colab_type": "code",
    "id": "hpNaQRzyjFcr",
    "scrolled": true
   },
   "outputs": [
    {
     "data": {
      "text/plain": [
       "'Shyam'"
      ]
     },
     "execution_count": 5,
     "metadata": {},
     "output_type": "execute_result"
    }
   ],
   "source": [
    "b              # Print the value of a"
   ]
  },
  {
   "cell_type": "code",
   "execution_count": 6,
   "metadata": {
    "colab": {
     "base_uri": "https://localhost:8080/",
     "height": 36
    },
    "colab_type": "code",
    "id": "OUlwzJXSjFcz",
    "outputId": "03eea11c-a37d-44a1-b5d0-728086c42c99",
    "scrolled": true
   },
   "outputs": [
    {
     "data": {
      "text/plain": [
       "'Shyam'"
      ]
     },
     "execution_count": 6,
     "metadata": {},
     "output_type": "execute_result"
    }
   ],
   "source": [
    "a = 300\n",
    "a\n",
    "b = \"Shyam\"\n",
    "b              # Print the value of a only\n"
   ]
  },
  {
   "cell_type": "code",
   "execution_count": 7,
   "metadata": {
    "colab": {
     "base_uri": "https://localhost:8080/",
     "height": 54
    },
    "colab_type": "code",
    "id": "WpykvuA2jFc6",
    "outputId": "4a95b105-b555-4dba-e04a-ed8552440413",
    "scrolled": true
   },
   "outputs": [
    {
     "name": "stdout",
     "output_type": "stream",
     "text": [
      "300\n",
      "Shyam\n"
     ]
    }
   ],
   "source": [
    "a = 300\n",
    "a\n",
    "b = \"Shyam\"\n",
    "b\n",
    "print (a)\n",
    "print (b)\n"
   ]
  },
  {
   "cell_type": "markdown",
   "metadata": {
    "colab_type": "text",
    "id": "MMjDpJ0gjFdA"
   },
   "source": [
    "### 1.3: Error (Indentation Error)"
   ]
  },
  {
   "cell_type": "code",
   "execution_count": 5,
   "metadata": {
    "colab": {
     "base_uri": "https://localhost:8080/",
     "height": 36
    },
    "colab_type": "code",
    "id": "TzLS9kvpjFdB",
    "outputId": "0344ddb6-e4ad-4e5a-c8ae-2c1e0c5f63e4",
    "scrolled": true
   },
   "outputs": [
    {
     "name": "stdout",
     "output_type": "stream",
     "text": [
      "20\n"
     ]
    }
   ],
   "source": [
    " a = 20               # No error\n",
    "print (a)          \n"
   ]
  },
  {
   "cell_type": "code",
   "execution_count": 6,
   "metadata": {
    "colab": {
     "base_uri": "https://localhost:8080/",
     "height": 36
    },
    "colab_type": "code",
    "id": "ktr-kmCKjFdH",
    "outputId": "cfbd025f-78e0-435b-f9af-b83ffd2f6883",
    "scrolled": true
   },
   "outputs": [
    {
     "name": "stdout",
     "output_type": "stream",
     "text": [
      "20\n"
     ]
    }
   ],
   "source": [
    "# Error - unexpected indent\n",
    "a = 20               # Error\n",
    "print (a)\n"
   ]
  },
  {
   "cell_type": "code",
   "execution_count": 10,
   "metadata": {
    "colab": {
     "base_uri": "https://localhost:8080/",
     "height": 36
    },
    "colab_type": "code",
    "id": "QS3lUywQjFdN",
    "outputId": "2bd701a1-eaaf-416d-f8ed-6ace0fca2f62",
    "scrolled": true
   },
   "outputs": [
    {
     "name": "stdout",
     "output_type": "stream",
     "text": [
      "20\n"
     ]
    }
   ],
   "source": [
    " # No Error\n",
    " a = 20              # No Error\n",
    "print (a)\n"
   ]
  },
  {
   "cell_type": "code",
   "execution_count": 7,
   "metadata": {
    "colab": {
     "base_uri": "https://localhost:8080/",
     "height": 136
    },
    "colab_type": "code",
    "id": "KG6z31nvjFdU",
    "outputId": "aab1c75c-4d5d-45db-c40b-3f38f992b3cd",
    "scrolled": true
   },
   "outputs": [
    {
     "name": "stdout",
     "output_type": "stream",
     "text": [
      "20\n",
      "30\n"
     ]
    }
   ],
   "source": [
    "# Error - unexpected indent\n",
    "a = 20\n",
    "print (a)\n",
    "b = 30              # Error\n",
    "print (b)\n"
   ]
  },
  {
   "cell_type": "markdown",
   "metadata": {
    "colab_type": "text",
    "id": "IaiOvz8a_1XO"
   },
   "source": [
    "# 2: Different types of Operators"
   ]
  },
  {
   "cell_type": "markdown",
   "metadata": {
    "colab_type": "text",
    "id": "bpuRTyjRjFdc"
   },
   "source": [
    "## 2.1 Arithmetic Operators (+, -, \\*, /, //, %, **)"
   ]
  },
  {
   "cell_type": "markdown",
   "metadata": {
    "colab_type": "text",
    "id": "lkpyXb8BjFdd"
   },
   "source": [
    "### 2.1.1: Use of + - * / %"
   ]
  },
  {
   "cell_type": "code",
   "execution_count": 8,
   "metadata": {
    "colab": {},
    "colab_type": "code",
    "id": "ClVVA7XnjFdf",
    "scrolled": true
   },
   "outputs": [
    {
     "name": "stdout",
     "output_type": "stream",
     "text": [
      "220  +  16  -->  236\n",
      "220  -  16  -->  204\n",
      "220  *  16  -->  3520\n",
      "(220, ' / ', 16, ' --> ', 13)\n",
      "(220, ' % ', 16, ' --> ', 12)\n"
     ]
    }
   ],
   "source": [
    "#------------------------------------------------------------------------\n",
    "# 2.1.1: Use of + - * / %\n",
    "#------------------------------------------------------------------------\n",
    "a = 220\n",
    "b = 16\n",
    "\n",
    "c = a + b       # Use of +\n",
    "print a, \" + \", b, \" --> \", c\n",
    "\n",
    "c = a - b       # Use of -\n",
    "print a, \" - \", b, \" --> \", c\n",
    "\n",
    "c = a * b       # Use of *\n",
    "print a, \" * \", b, \" --> \", c\n",
    "\n",
    "c = a / b       # Use of /\n",
    "print (a, \" / \", b, \" --> \", c)\n",
    "\n",
    "c = a % b       # Use of %\n",
    "print (a, \" % \", b, \" --> \", c)\n"
   ]
  },
  {
   "cell_type": "markdown",
   "metadata": {
    "colab_type": "text",
    "id": "yQgbxSeCjFdj"
   },
   "source": [
    "### 2.1.2: Use of / and  //"
   ]
  },
  {
   "cell_type": "code",
   "execution_count": 9,
   "metadata": {
    "colab": {},
    "colab_type": "code",
    "id": "9DwaY7knjFdl",
    "scrolled": true
   },
   "outputs": [
    {
     "name": "stdout",
     "output_type": "stream",
     "text": [
      "(220, ' / ', 16, ' --> ', 13)\n",
      "(220, ' // ', 16, ' --> ', 13)\n"
     ]
    }
   ],
   "source": [
    "#------------------------------------------------------------------------\n",
    "# 2.1.2: Use of / and  //\n",
    "#------------------------------------------------------------------------\n",
    "a = 220\n",
    "b = 16\n",
    "\n",
    "c = a / b       # Use of /\n",
    "print (a, \" / \", b, \" --> \", c)\n",
    "\n",
    "c = a // b      # Use of //\n",
    "print (a, \" // \", b, \" --> \", c)\n"
   ]
  },
  {
   "cell_type": "markdown",
   "metadata": {
    "colab_type": "text",
    "id": "QAzbikwejFdr"
   },
   "source": [
    "### 2.1.3: Use of ** (power)"
   ]
  },
  {
   "cell_type": "code",
   "execution_count": 14,
   "metadata": {
    "colab": {},
    "colab_type": "code",
    "id": "XDdHKd5kjFds",
    "scrolled": true
   },
   "outputs": [
    {
     "name": "stdout",
     "output_type": "stream",
     "text": [
      "(9, ' ** ', 2, ' --> ', 81)\n"
     ]
    }
   ],
   "source": [
    "#------------------------------------------------------------------------\n",
    "# 2.1.3: Use of ** (power)\n",
    "#------------------------------------------------------------------------\n",
    "a = 9\n",
    "b = 2\n",
    "\n",
    "c = a ** b       # Use of **\n",
    "print (a, \" ** \", b, \" --> \", c)\n"
   ]
  },
  {
   "cell_type": "markdown",
   "metadata": {
    "colab_type": "text",
    "id": "pipar8BKjFdx"
   },
   "source": [
    "## 2.2: Bitwise Operators (&, |, ~, ^, >>, <<)"
   ]
  },
  {
   "cell_type": "markdown",
   "metadata": {
    "colab_type": "text",
    "id": "F7r4saGMjFdx"
   },
   "source": [
    "### 2.2.1: Use of & (and)"
   ]
  },
  {
   "cell_type": "code",
   "execution_count": 15,
   "metadata": {
    "colab": {},
    "colab_type": "code",
    "id": "DduiZxPWjFdy",
    "scrolled": true
   },
   "outputs": [
    {
     "name": "stdout",
     "output_type": "stream",
     "text": [
      "(0, ' & ', 1, ' --> ', 0)\n",
      "(1, ' & ', 1, ' --> ', 1)\n",
      "(20, '& ', 10, '--> ', 0)\n",
      "(10, '& ', 10, '--> ', 10)\n"
     ]
    }
   ],
   "source": [
    "#------------------------------------------------------------------------\n",
    "# 2.2.1: Use of & (and) --> Sets each bit to 1 if both bits are 1.\n",
    "#------------------------------------------------------------------------\n",
    "a = 0\n",
    "b = 1\n",
    "d = 1\n",
    "\n",
    "c = a & b       # Use of & \n",
    "print (a, \" & \", b, \" --> \", c)\n",
    "\n",
    "c = d & b       # Use of &\n",
    "print (d, \" & \", b, \" --> \", c)\n",
    "\n",
    "a = 20\n",
    "b = 10\n",
    "d = 10\n",
    "\n",
    "c = a & b       # Use of & \n",
    "print (a, \"& \", b, \"--> \", c)\n",
    "\n",
    "c = d & b       # Use of &\n",
    "print (d, \"& \", b, \"--> \", c)\n"
   ]
  },
  {
   "cell_type": "markdown",
   "metadata": {
    "colab_type": "text",
    "id": "gGitUgQvjFd4"
   },
   "source": [
    "### 2.2.2: Use of | (or)"
   ]
  },
  {
   "cell_type": "code",
   "execution_count": 16,
   "metadata": {
    "colab": {},
    "colab_type": "code",
    "id": "s06o4IOojFd5",
    "scrolled": true
   },
   "outputs": [
    {
     "name": "stdout",
     "output_type": "stream",
     "text": [
      "(0, ' | ', 1, ' --> ', 1)\n",
      "(1, ' | ', 1, ' --> ', 1)\n",
      "(20, '| ', 10, '--> ', 30)\n",
      "(10, '| ', 10, '--> ', 10)\n"
     ]
    }
   ],
   "source": [
    "#------------------------------------------------------------------------\n",
    "# 2.2.2: Use of | (or) --> Sets each bit to 1 if one of two bits is 1.\n",
    "#------------------------------------------------------------------------\n",
    "\n",
    "a = 0\n",
    "b = 1\n",
    "d = 1\n",
    "\n",
    "c = a | b       # Use of |\n",
    "print (a, \" | \", b, \" --> \", c)\n",
    "\n",
    "c = d | b       # Use of |\n",
    "print (d, \" | \", b, \" --> \", c)\n",
    "\n",
    "a = 20\n",
    "b = 10\n",
    "d = 10\n",
    "\n",
    "c = a | b       # Use of |\n",
    "print (a, \"| \", b, \"--> \", c)\n",
    "\n",
    "c = d | b       # Use of |\n",
    "print (d, \"| \", b, \"--> \", c)\n"
   ]
  },
  {
   "cell_type": "code",
   "execution_count": 11,
   "metadata": {},
   "outputs": [
    {
     "name": "stdout",
     "output_type": "stream",
     "text": [
      "20\n"
     ]
    }
   ],
   "source": [
    "a=0\n",
    "b=20\n",
    "c=a or b\n",
    "print(c)"
   ]
  },
  {
   "cell_type": "markdown",
   "metadata": {
    "colab_type": "text",
    "id": "8kwjVmXzjFd-"
   },
   "source": [
    "### 2.2.3: Use of ~ (not)"
   ]
  },
  {
   "cell_type": "code",
   "execution_count": 17,
   "metadata": {
    "colab": {},
    "colab_type": "code",
    "id": "7_VzoeckjFd-",
    "scrolled": true
   },
   "outputs": [
    {
     "name": "stdout",
     "output_type": "stream",
     "text": [
      "(' ~', 0, ' --> ', -1)\n",
      "(' ~', 1, ' --> ', -2)\n",
      "(' ~', 20, '--> ', -21)\n",
      "(' ~', 10, '--> ', -11)\n"
     ]
    }
   ],
   "source": [
    "#------------------------------------------------------------------------\n",
    "# 2.2.3: Use of ~ (not) --> Inverts all the bits.\n",
    "#------------------------------------------------------------------------\n",
    "a = 0\n",
    "b = 1\n",
    "\n",
    "c = ~a        # Use of ~\n",
    "print (\" ~\", a, \" --> \", c)\n",
    "\n",
    "c = ~b       # Use of ~\n",
    "print (\" ~\", b, \" --> \", c)\n",
    "\n",
    "\n",
    "a = 20\n",
    "b = 10\n",
    "\n",
    "c = ~a        # Use of ~\n",
    "print (\" ~\", a, \"--> \", c)\n",
    "\n",
    "c = ~b       # Use of ~\n",
    "print (\" ~\", b, \"--> \", c)\n"
   ]
  },
  {
   "cell_type": "markdown",
   "metadata": {
    "colab_type": "text",
    "id": "TamgpdmcjFeD"
   },
   "source": [
    "### 2.2.4: Use of ^ (xor)"
   ]
  },
  {
   "cell_type": "code",
   "execution_count": 18,
   "metadata": {
    "colab": {},
    "colab_type": "code",
    "id": "aUynLSKEjFeF",
    "scrolled": true
   },
   "outputs": [
    {
     "name": "stdout",
     "output_type": "stream",
     "text": [
      "(0, ' ^ ', 1, ' --> ', 1)\n",
      "(1, ' ^ ', 1, ' --> ', 0)\n",
      "(20, '^ ', 10, '--> ', 30)\n",
      "(10, '^ ', 10, '--> ', 0)\n"
     ]
    }
   ],
   "source": [
    "#------------------------------------------------------------------------\n",
    "# 2.2.4: Use of ^ (xor) --> Sets each bit to 1 if only one of two bits is 1.\n",
    "#------------------------------------------------------------------------\n",
    "\n",
    "a = 0\n",
    "b = 1\n",
    "d = 1\n",
    "\n",
    "c = a ^ b       # Use of ^\n",
    "print (a, \" ^ \", b, \" --> \", c)\n",
    "\n",
    "c = d ^ b       # Use of ^\n",
    "print (d, \" ^ \", b, \" --> \", c)\n",
    "\n",
    "a = 20\n",
    "b = 10\n",
    "d = 10\n",
    "\n",
    "c = a ^ b       # Use of ^\n",
    "print (a, \"^ \", b, \"--> \", c)\n",
    "\n",
    "c = d ^ b       # Use of ^\n",
    "print (d, \"^ \", b, \"--> \", c)\n"
   ]
  },
  {
   "cell_type": "markdown",
   "metadata": {
    "colab_type": "text",
    "id": "yHf9xMKzjFeJ"
   },
   "source": [
    "### 2.2.5: Use  >> (shift right)"
   ]
  },
  {
   "cell_type": "code",
   "execution_count": 19,
   "metadata": {
    "colab": {},
    "colab_type": "code",
    "id": "y41nxx5ojFeK",
    "scrolled": true
   },
   "outputs": [
    {
     "name": "stdout",
     "output_type": "stream",
     "text": [
      "(1, ' >> ', 1, ' --> ', 0)\n",
      "(1, ' >> ', 2, ' --> ', 0)\n",
      "(20, '>> ', 1, ' --> ', 10)\n",
      "(20, '>> ', 2, ' --> ', 5)\n"
     ]
    }
   ],
   "source": [
    "#------------------------------------------------------------------------\n",
    "# 2.2.5: Use  >> (shift right) --> Shift right by pushing copies of the leftmost \n",
    "# bit in from the left, and let the rightmost bits fall off.\n",
    "#------------------------------------------------------------------------\n",
    "a = 1\n",
    "b = 1\n",
    "d = 2\n",
    "\n",
    "c = a >> b       # Use of >>\n",
    "print (a, \" >> \", b, \" --> \", c)\n",
    "\n",
    "c = a >> d       # Use of >>\n",
    "print (a, \" >> \", d, \" --> \", c)\n",
    "\n",
    "a = 20\n",
    "b = 1\n",
    "d = 2\n",
    "\n",
    "c = a >> b       # Use of >>\n",
    "print (a, \">> \", b, \" --> \", c)\n",
    "\n",
    "c = a >> d       # Use of >>\n",
    "print (a, \">> \", d, \" --> \", c)\n"
   ]
  },
  {
   "cell_type": "markdown",
   "metadata": {
    "colab_type": "text",
    "id": "FqVH-H8ujFeO"
   },
   "source": [
    "### 2.2.6: Use  << (shift left)"
   ]
  },
  {
   "cell_type": "code",
   "execution_count": 20,
   "metadata": {
    "colab": {},
    "colab_type": "code",
    "id": "vhaxhy1VjFeQ",
    "scrolled": true
   },
   "outputs": [
    {
     "name": "stdout",
     "output_type": "stream",
     "text": [
      "(1, ' << ', 1, ' --> ', 2)\n",
      "(1, ' << ', 2, ' --> ', 4)\n",
      "(20, '<< ', 1, ' --> ', 40)\n",
      "(20, '<< ', 2, ' --> ', 80)\n"
     ]
    }
   ],
   "source": [
    "#------------------------------------------------------------------------\n",
    "# 2.2.6: Use  << (shift left) --> Zero fill left shift\n",
    "# Shift left by pushing zeros in from the right and let the leftmost bits fall off.\n",
    "#------------------------------------------------------------------------\n",
    "\n",
    "a = 1\n",
    "b = 1\n",
    "d = 2\n",
    "\n",
    "c = a << b       # Use of <<\n",
    "print (a, \" << \", b, \" --> \", c)\n",
    "\n",
    "c = a << d       # Use of <<\n",
    "print (a, \" << \", d, \" --> \", c)\n",
    "\n",
    "a = 20\n",
    "b = 1\n",
    "d = 2\n",
    "\n",
    "c = a << b       # Use of <<\n",
    "print (a, \"<< \", b, \" --> \", c)\n",
    "\n",
    "c = a << d       # Use of <<\n",
    "print (a, \"<< \", d, \" --> \", c)\n"
   ]
  },
  {
   "cell_type": "markdown",
   "metadata": {
    "colab_type": "text",
    "id": "66627AnrjFeV"
   },
   "source": [
    "## 2.3: Assignment Operators (=, +=, -=, /=, //=)"
   ]
  },
  {
   "cell_type": "markdown",
   "metadata": {
    "colab_type": "text",
    "id": "xlv2r4AijFeW"
   },
   "source": [
    "### 2.3.1: Use of +="
   ]
  },
  {
   "cell_type": "code",
   "execution_count": 21,
   "metadata": {
    "colab": {},
    "colab_type": "code",
    "id": "_oRUEt65jFeX",
    "scrolled": true
   },
   "outputs": [
    {
     "name": "stdout",
     "output_type": "stream",
     "text": [
      "(' a  =', 20)\n",
      "(' a += 10 --> ', 30)\n"
     ]
    }
   ],
   "source": [
    "#------------------------------------------------------------------------\n",
    "# 2.3.1: Use of +=\n",
    "#------------------------------------------------------------------------\n",
    "a = 20\n",
    "print (\" a  =\", a)\n",
    "\n",
    "a += 10    \n",
    "print (\" a += 10 --> \", a)\n"
   ]
  },
  {
   "cell_type": "markdown",
   "metadata": {
    "colab_type": "text",
    "id": "g519_CvHjFed"
   },
   "source": [
    "### 2.3.2: Use of -="
   ]
  },
  {
   "cell_type": "code",
   "execution_count": 22,
   "metadata": {
    "colab": {},
    "colab_type": "code",
    "id": "rz1yxVKZjFeh",
    "scrolled": true
   },
   "outputs": [
    {
     "name": "stdout",
     "output_type": "stream",
     "text": [
      "('\\n a  =', 20)\n",
      "(' a -= 10 --> ', 10)\n"
     ]
    }
   ],
   "source": [
    "#------------------------------------------------------------------------\n",
    "# 2.3.2: Use of -=\n",
    "#------------------------------------------------------------------------\n",
    "a = 20\n",
    "print (\"\\n a  =\", a)\n",
    "\n",
    "a -= 10    \n",
    "print (\" a -= 10 --> \", a)\n"
   ]
  },
  {
   "cell_type": "markdown",
   "metadata": {
    "colab_type": "text",
    "id": "mqmhsDrCjFeu"
   },
   "source": [
    "### 2.3.3: Use of *="
   ]
  },
  {
   "cell_type": "code",
   "execution_count": 23,
   "metadata": {
    "colab": {},
    "colab_type": "code",
    "id": "LYiAbgqQjFev",
    "scrolled": true
   },
   "outputs": [
    {
     "name": "stdout",
     "output_type": "stream",
     "text": [
      "('\\n a  =', 20)\n",
      "(' a *= 10 --> ', 200)\n"
     ]
    }
   ],
   "source": [
    "#------------------------------------------------------------------------\n",
    "# 2.3.3: Use of *=\n",
    "#------------------------------------------------------------------------\n",
    "a = 20\n",
    "print (\"\\n a  =\", a)\n",
    "\n",
    "a *= 10\n",
    "print (\" a *= 10 --> \", a)\n"
   ]
  },
  {
   "cell_type": "markdown",
   "metadata": {
    "colab_type": "text",
    "id": "i5hp9riYjFey"
   },
   "source": [
    "### 2.3.4: Use of /= and //="
   ]
  },
  {
   "cell_type": "code",
   "execution_count": 24,
   "metadata": {
    "colab": {},
    "colab_type": "code",
    "id": "OXVp96a6jFe0",
    "scrolled": true
   },
   "outputs": [
    {
     "name": "stdout",
     "output_type": "stream",
     "text": [
      "('\\n a  =', 20)\n",
      "(' a /= 10  --> ', 2)\n",
      "('\\n a   =', 20)\n",
      "(' a //= 10 --> ', 2)\n"
     ]
    }
   ],
   "source": [
    "#------------------------------------------------------------------------\n",
    "# 2.3.4: Use of /= and //=\n",
    "#------------------------------------------------------------------------\n",
    "a = 20\n",
    "print (\"\\n a  =\", a)\n",
    "\n",
    "a /= 10    \n",
    "print (\" a /= 10  --> \", a)\n",
    "\n",
    "\n",
    "a = 20\n",
    "print (\"\\n a   =\", a)\n",
    "\n",
    "a //= 10    \n",
    "print (\" a //= 10 --> \", a)\n"
   ]
  },
  {
   "cell_type": "markdown",
   "metadata": {
    "colab_type": "text",
    "id": "2370SaUuD5C0"
   },
   "source": [
    "# 3: Input from user"
   ]
  },
  {
   "cell_type": "markdown",
   "metadata": {
    "colab_type": "text",
    "id": "ll8KI_gPjFe4"
   },
   "source": [
    "### 3.1: Input from user and print it"
   ]
  },
  {
   "cell_type": "code",
   "execution_count": 14,
   "metadata": {
    "colab": {},
    "colab_type": "code",
    "id": "-8SHcKV3jFe6",
    "scrolled": true
   },
   "outputs": [
    {
     "name": "stdout",
     "output_type": "stream",
     "text": [
      "Enter Anything(Name/Numer): 10\n",
      "('Your Input is: ', 10)\n"
     ]
    }
   ],
   "source": [
    "#------------------------------------------------------------------------\n",
    "# 3.1: Input from user and print it\n",
    "#------------------------------------------------------------------------\n",
    "a = input(\"Enter Anything(Name/Numer): \")\n",
    "print  (\"Your Input is: \",a)\n"
   ]
  },
  {
   "cell_type": "markdown",
   "metadata": {
    "colab_type": "text",
    "id": "BtBjh_SnjFe-"
   },
   "source": [
    "### 3.2: Concatinate two strings"
   ]
  },
  {
   "cell_type": "code",
   "execution_count": 26,
   "metadata": {
    "colab": {},
    "colab_type": "code",
    "id": "ZUMrBpBHjFe_",
    "scrolled": true
   },
   "outputs": [
    {
     "name": "stdout",
     "output_type": "stream",
     "text": [
      "Enter First String: 10\n",
      "Enter Second String: 10\n",
      "(10, ' + ', 10, ' --> ', 20)\n"
     ]
    }
   ],
   "source": [
    "#------------------------------------------------------------------------\n",
    "# 3.2: Concatinate two strings\n",
    "#------------------------------------------------------------------------\n",
    "a = input(\"Enter First String: \")\n",
    "b = input(\"Enter Second String: \")\n",
    "c = a + b  # concatinate two strings\n",
    "print  (a, \" + \", b, \" --> \", c)\n"
   ]
  },
  {
   "cell_type": "markdown",
   "metadata": {
    "colab_type": "text",
    "id": "iukxJCScjFfD"
   },
   "source": [
    "#### Re-Run the above code and input two numbers"
   ]
  },
  {
   "cell_type": "markdown",
   "metadata": {
    "colab_type": "text",
    "id": "FLSpdoe2jFfE"
   },
   "source": [
    "### 3.3: Input two numbers from user and add them"
   ]
  },
  {
   "cell_type": "code",
   "execution_count": 27,
   "metadata": {
    "colab": {},
    "colab_type": "code",
    "id": "LkXF_pUQjFfE",
    "scrolled": true
   },
   "outputs": [
    {
     "name": "stdout",
     "output_type": "stream",
     "text": [
      "Enter First No: 10\n",
      "Enter Second No: 30\n",
      "(10, ' + ', 30, ' --> ', 40)\n"
     ]
    }
   ],
   "source": [
    "#------------------------------------------------------------------------\n",
    "# 3.3: Input two numbers from user and add them\n",
    "#------------------------------------------------------------------------\n",
    "a = int(input(\"Enter First No: \"))\n",
    "b = int(input(\"Enter Second No: \"))\n",
    "c = a + b\n",
    "print (a, \" + \", b, \" --> \", c)\n"
   ]
  },
  {
   "cell_type": "markdown",
   "metadata": {
    "colab_type": "text",
    "id": "rlD_t6sEjFfH"
   },
   "source": [
    "### 3.4: Concatinate String and Number"
   ]
  },
  {
   "cell_type": "markdown",
   "metadata": {
    "colab_type": "text",
    "id": "9Id8dw0YjFfI"
   },
   "source": [
    "#### 3.4.1 Concatinate String and Number "
   ]
  },
  {
   "cell_type": "code",
   "execution_count": 28,
   "metadata": {
    "colab": {},
    "colab_type": "code",
    "id": "0cuR3TNAjFfI",
    "scrolled": true
   },
   "outputs": [
    {
     "ename": "TypeError",
     "evalue": "cannot concatenate 'str' and 'int' objects",
     "output_type": "error",
     "traceback": [
      "\u001b[1;31m---------------------------------------------------------------------------\u001b[0m",
      "\u001b[1;31mTypeError\u001b[0m                                 Traceback (most recent call last)",
      "\u001b[1;32m<ipython-input-28-a1329e69ce4a>\u001b[0m in \u001b[0;36m<module>\u001b[1;34m()\u001b[0m\n\u001b[0;32m      2\u001b[0m \u001b[1;31m# 3.4.1: Concatinate String and Number\u001b[0m\u001b[1;33m\u001b[0m\u001b[1;33m\u001b[0m\u001b[0m\n\u001b[0;32m      3\u001b[0m \u001b[1;31m#------------------------------------------------------------------------\u001b[0m\u001b[1;33m\u001b[0m\u001b[1;33m\u001b[0m\u001b[0m\n\u001b[1;32m----> 4\u001b[1;33m \u001b[0mc\u001b[0m \u001b[1;33m=\u001b[0m \u001b[1;34m\"Ram\"\u001b[0m \u001b[1;33m+\u001b[0m \u001b[1;36m10\u001b[0m   \u001b[1;31m# Error: Different data type\u001b[0m\u001b[1;33m\u001b[0m\u001b[0m\n\u001b[0m\u001b[0;32m      5\u001b[0m \u001b[1;32mprint\u001b[0m \u001b[1;33m(\u001b[0m\u001b[0mc\u001b[0m\u001b[1;33m)\u001b[0m\u001b[1;33m\u001b[0m\u001b[0m\n",
      "\u001b[1;31mTypeError\u001b[0m: cannot concatenate 'str' and 'int' objects"
     ]
    }
   ],
   "source": [
    "#------------------------------------------------------------------------\n",
    "# 3.4.1: Concatinate String and Number \n",
    "#------------------------------------------------------------------------\n",
    "c = \"Ram\" + 10   # Error: Different data type\n",
    "print (c)\n"
   ]
  },
  {
   "cell_type": "markdown",
   "metadata": {
    "colab_type": "text",
    "id": "_FjkLHQDjFfM"
   },
   "source": [
    "#### 3.4.2: Concatinate String and Number"
   ]
  },
  {
   "cell_type": "code",
   "execution_count": 29,
   "metadata": {
    "colab": {},
    "colab_type": "code",
    "id": "BEUEJ128jFfO",
    "scrolled": true
   },
   "outputs": [
    {
     "name": "stdout",
     "output_type": "stream",
     "text": [
      "Ram10\n"
     ]
    }
   ],
   "source": [
    "#------------------------------------------------------------------------\n",
    "# 3.4.2: Concatinate String and Number\n",
    "#------------------------------------------------------------------------\n",
    "c = \"Ram\" + \"10\"\n",
    "print (c)\n"
   ]
  },
  {
   "cell_type": "markdown",
   "metadata": {
    "colab_type": "text",
    "id": "FlQI1QdBjFfS"
   },
   "source": [
    "#### 3.4.3: Concatinate String and Number"
   ]
  },
  {
   "cell_type": "code",
   "execution_count": 30,
   "metadata": {
    "colab": {},
    "colab_type": "code",
    "id": "Ql17dZOojFfS",
    "scrolled": true
   },
   "outputs": [
    {
     "ename": "TypeError",
     "evalue": "unsupported operand type(s) for +: 'int' and 'str'",
     "output_type": "error",
     "traceback": [
      "\u001b[1;31m---------------------------------------------------------------------------\u001b[0m",
      "\u001b[1;31mTypeError\u001b[0m                                 Traceback (most recent call last)",
      "\u001b[1;32m<ipython-input-30-0c75e789f22b>\u001b[0m in \u001b[0;36m<module>\u001b[1;34m()\u001b[0m\n\u001b[0;32m      4\u001b[0m \u001b[0ma\u001b[0m \u001b[1;33m=\u001b[0m \u001b[1;36m10\u001b[0m\u001b[1;33m\u001b[0m\u001b[0m\n\u001b[0;32m      5\u001b[0m \u001b[0mb\u001b[0m \u001b[1;33m=\u001b[0m \u001b[1;34m\"Ram\"\u001b[0m\u001b[1;33m\u001b[0m\u001b[0m\n\u001b[1;32m----> 6\u001b[1;33m \u001b[0mc\u001b[0m \u001b[1;33m=\u001b[0m \u001b[0ma\u001b[0m \u001b[1;33m+\u001b[0m \u001b[0mb\u001b[0m         \u001b[1;31m# Error: Different data type\u001b[0m\u001b[1;33m\u001b[0m\u001b[0m\n\u001b[0m\u001b[0;32m      7\u001b[0m \u001b[1;32mprint\u001b[0m \u001b[1;33m(\u001b[0m\u001b[0ma\u001b[0m\u001b[1;33m,\u001b[0m \u001b[1;34m\" + \"\u001b[0m\u001b[1;33m,\u001b[0m \u001b[0mb\u001b[0m\u001b[1;33m,\u001b[0m \u001b[1;34m\" --> \"\u001b[0m\u001b[1;33m,\u001b[0m \u001b[0mc\u001b[0m\u001b[1;33m)\u001b[0m\u001b[1;33m\u001b[0m\u001b[0m\n",
      "\u001b[1;31mTypeError\u001b[0m: unsupported operand type(s) for +: 'int' and 'str'"
     ]
    }
   ],
   "source": [
    "#------------------------------------------------------------------------\n",
    "# 3.4.3: Concatinate String and Number\n",
    "#------------------------------------------------------------------------\n",
    "a = 10\n",
    "b = \"Ram\"\n",
    "c = a + b         # Error: Different data type\n",
    "print (a, \" + \", b, \" --> \", c)\n"
   ]
  },
  {
   "cell_type": "markdown",
   "metadata": {
    "colab_type": "text",
    "id": "z5U_pJC-jFfV"
   },
   "source": [
    "#### 3.4.4: Concatinate String and Number"
   ]
  },
  {
   "cell_type": "code",
   "execution_count": 15,
   "metadata": {
    "colab": {},
    "colab_type": "code",
    "id": "tFmCtf-5jFfW",
    "scrolled": true
   },
   "outputs": [
    {
     "name": "stdout",
     "output_type": "stream",
     "text": [
      "(10, ' + ', 'Ram', ' --> ', '10Ram')\n"
     ]
    }
   ],
   "source": [
    "#------------------------------------------------------------------------\n",
    "# 3.4.4: Concatinate String and Number\n",
    "#------------------------------------------------------------------------\n",
    "a = 10\n",
    "b = \"Ram\"\n",
    "c = str(a) + b\n",
    "\n",
    "print (a, \" + \", b, \" --> \", c)\n"
   ]
  },
  {
   "cell_type": "markdown",
   "metadata": {
    "colab_type": "text",
    "id": "ANQik0yfjFfa"
   },
   "source": [
    "#### Assingment 3.1: WAP to add three numbers, inputs from user and print result\n",
    "#### Assingment 3.2: WAP to concatinate three strings, inputs from user and print\n"
   ]
  },
  {
   "cell_type": "markdown",
   "metadata": {
    "colab_type": "text",
    "id": "KNt5QIjUjFfa"
   },
   "source": [
    "# 4: If-Else - Conditional Checking"
   ]
  },
  {
   "cell_type": "markdown",
   "metadata": {
    "colab_type": "text",
    "id": "U23JJt_IjFfa"
   },
   "source": [
    "## 4.1: Input two numbers from user and compare them"
   ]
  },
  {
   "cell_type": "code",
   "execution_count": 18,
   "metadata": {
    "colab": {},
    "colab_type": "code",
    "id": "n5Wdd4yHjFfa",
    "scrolled": true
   },
   "outputs": [
    {
     "name": "stdout",
     "output_type": "stream",
     "text": [
      "Enter First No: 10\n",
      "Enter Second No: 20\n",
      "(10, ' < ', 20)\n"
     ]
    }
   ],
   "source": [
    "#------------------------------------------------------------------------\n",
    "# 4.1: Input two numbers from user and compare them\n",
    "#------------------------------------------------------------------------\n",
    "a = int(input(\"Enter First No: \"))\n",
    "b = int(input(\"Enter Second No: \"))\n",
    "if  a > b: \n",
    "    print (a,\" > \",b)\n",
    "else:\n",
    "    print (a,\" < \",b)\n",
    "    "
   ]
  },
  {
   "cell_type": "markdown",
   "metadata": {
    "colab_type": "text",
    "id": "fpOgjgXSjFfd"
   },
   "source": [
    "### 4.2: Check weather a number is odd or even:"
   ]
  },
  {
   "cell_type": "code",
   "execution_count": null,
   "metadata": {
    "colab": {},
    "colab_type": "code",
    "id": "Aew7YKw7jFfd",
    "scrolled": true
   },
   "outputs": [],
   "source": [
    "#------------------------------------------------------------------------\n",
    "# 4.2: Check weather a number is odd or even:\n",
    "#------------------------------------------------------------------------\n",
    "n = int(input(\"Enter a No: \"))\n",
    "if  n % 2 == 0: \n",
    "    print (n,\" is even\")\n",
    "else:\n",
    "    print (n,\" is odd\")\n",
    "\n",
    "    \n",
    "if  n % 2 != 0: \n",
    "    print (n,\" is odd\")\n",
    "else:\n",
    "    print (n,\" is even\")\n"
   ]
  },
  {
   "cell_type": "markdown",
   "metadata": {
    "colab_type": "text",
    "id": "4sRlxYdGjFfg"
   },
   "source": [
    "### 4.3: Conditional Checking - Compare strings"
   ]
  },
  {
   "cell_type": "code",
   "execution_count": null,
   "metadata": {
    "colab": {},
    "colab_type": "code",
    "id": "pYjdGq2ljFfh",
    "scrolled": true
   },
   "outputs": [],
   "source": [
    "#------------------------------------------------------------------------\n",
    "# 4.3: Conditional Checking - Compare strings\n",
    "#------------------------------------------------------------------------\n",
    "a = input(\"Enter First String: \")\n",
    "b = input(\"Enter Second String: \")\n",
    "\n",
    "if a == b: \n",
    "    print (\"a == b\")\n",
    "elif a >= b: \n",
    "    print (\"a > b\")\n",
    "else:\n",
    "    print (\"a < b\")\n",
    "    x=70                   # in the else block\n",
    "    y=80                   # in the else block\n",
    "z=90                       # Out of the else block\n"
   ]
  },
  {
   "cell_type": "code",
   "execution_count": null,
   "metadata": {
    "colab": {},
    "colab_type": "code",
    "id": "o5L_avjHjFfl",
    "scrolled": true
   },
   "outputs": [],
   "source": [
    "a = 10\n",
    "b = 20 \n",
    "print (a == b)\n",
    "print (a != b)\n"
   ]
  },
  {
   "cell_type": "markdown",
   "metadata": {
    "colab_type": "text",
    "id": "_VXEllKFjFfp"
   },
   "source": [
    "### 4.4: Logical Operators (and, or, not)"
   ]
  },
  {
   "cell_type": "markdown",
   "metadata": {
    "colab_type": "text",
    "id": "0jx_xBPijFfp"
   },
   "source": [
    "#### 4.4.1: Use of and"
   ]
  },
  {
   "cell_type": "code",
   "execution_count": null,
   "metadata": {
    "colab": {},
    "colab_type": "code",
    "id": "j8xYkDFpjFfq",
    "scrolled": true
   },
   "outputs": [],
   "source": [
    "#------------------------------------------------------------------------\n",
    "# 4.4.1: Use of and\n",
    "#------------------------------------------------------------------------\n",
    "a = 10\n",
    "b = 20\n",
    "\n",
    "print (\"a == 10 --> \",a == 10)\n",
    "print (\"b == 20 --> \",b == 20)\n",
    "\n",
    "if a == 10 and b == 20: \n",
    "    print (\"Accepted\")\n",
    "elif a >= b: \n",
    "    print (\"Rejected\")\n"
   ]
  },
  {
   "cell_type": "markdown",
   "metadata": {
    "colab_type": "text",
    "id": "8_hn0dBejFft"
   },
   "source": [
    "#### 4.4.2: Use of and"
   ]
  },
  {
   "cell_type": "code",
   "execution_count": null,
   "metadata": {
    "colab": {},
    "colab_type": "code",
    "id": "29UjkhE0jFfu",
    "scrolled": true
   },
   "outputs": [],
   "source": [
    "#------------------------------------------------------------------------\n",
    "# 4.4.2: Use of and\n",
    "#------------------------------------------------------------------------\n",
    "a = 0\n",
    "b = 0 \n",
    "print (a and b)\n",
    "print (a & b)"
   ]
  },
  {
   "cell_type": "markdown",
   "metadata": {
    "colab_type": "text",
    "id": "hegkNbpdjFfx"
   },
   "source": [
    "#### Re-Run the above code with a=1 and b=0 | a=0 and b=1 | a=1 and b=1"
   ]
  },
  {
   "cell_type": "markdown",
   "metadata": {
    "colab_type": "text",
    "id": "erO8wdHMjFfx"
   },
   "source": [
    "#### 4.4.3: Use of and "
   ]
  },
  {
   "cell_type": "code",
   "execution_count": null,
   "metadata": {
    "colab": {},
    "colab_type": "code",
    "id": "f7sHOPo2jFfy",
    "scrolled": true
   },
   "outputs": [],
   "source": [
    "#------------------------------------------------------------------------\n",
    "# 4.4.3: Use of and \n",
    "#------------------------------------------------------------------------\n",
    "a = 20\n",
    "b = 10 \n",
    "print (a and b)\n",
    "print (a & b)"
   ]
  },
  {
   "cell_type": "markdown",
   "metadata": {
    "colab_type": "text",
    "id": "08tgkSfZjFf2"
   },
   "source": [
    "#### Re-Run the above code with a = 10 and b = 20 | a = 10 and b = 0 | a = 0 and b = 20 | a = 1 and b = 20"
   ]
  },
  {
   "cell_type": "markdown",
   "metadata": {
    "colab_type": "text",
    "id": "POaZC3GvjFf3"
   },
   "source": [
    "#### 4.4.4: Use of or"
   ]
  },
  {
   "cell_type": "code",
   "execution_count": null,
   "metadata": {
    "colab": {},
    "colab_type": "code",
    "id": "jOeE22BOjFf3",
    "scrolled": true
   },
   "outputs": [],
   "source": [
    "#------------------------------------------------------------------------\n",
    "# 4.4.4: Use of or\n",
    "#------------------------------------------------------------------------\n",
    "a = 10\n",
    "b = 20\n",
    "\n",
    "\n",
    "print (\"a == 10 --> \",a == 10)\n",
    "print (\"b == 20 --> \",b == 20)\n",
    "\n",
    "if a == 20 or b == 20: \n",
    "    print (\"Accepted\")\n",
    "else: \n",
    "    print (\"Rejected\")\n"
   ]
  },
  {
   "cell_type": "markdown",
   "metadata": {
    "colab_type": "text",
    "id": "kxJketepjFf6"
   },
   "source": [
    "#### 4.4.5: Use of or"
   ]
  },
  {
   "cell_type": "code",
   "execution_count": null,
   "metadata": {
    "colab": {},
    "colab_type": "code",
    "id": "OdmI_FijjFf7",
    "scrolled": true
   },
   "outputs": [],
   "source": [
    "#------------------------------------------------------------------------\n",
    "# 4.4.5: Use of or\n",
    "#------------------------------------------------------------------------\n",
    "a = 0\n",
    "b = 0 \n",
    "print (a and b)\n",
    "print (a | b)\n"
   ]
  },
  {
   "cell_type": "markdown",
   "metadata": {
    "colab_type": "text",
    "id": "O43lh3l1jFf-"
   },
   "source": [
    "#### Re-Run the above code with a=1 and b=0 | a=0 and b=1 | a=1 and b=1"
   ]
  },
  {
   "cell_type": "markdown",
   "metadata": {
    "colab_type": "text",
    "id": "MztFWYw8jFf_"
   },
   "source": [
    "#### 4.4.6: Use of or"
   ]
  },
  {
   "cell_type": "code",
   "execution_count": null,
   "metadata": {
    "colab": {},
    "colab_type": "code",
    "id": "xrs8dh48jFgA",
    "scrolled": true
   },
   "outputs": [],
   "source": [
    "#------------------------------------------------------------------------\n",
    "# 4.4.6: Use of or\n",
    "#------------------------------------------------------------------------\n",
    "a = 10\n",
    "b = 20 \n",
    "print (a or b)\n",
    "print (a | b)\n"
   ]
  },
  {
   "cell_type": "markdown",
   "metadata": {
    "colab_type": "text",
    "id": "StQcFhmNjFgD"
   },
   "source": [
    "#### Re-Run the above code with a = 10 and b = 0 | a = 0 and b = 20 | a = 1 and b = 20"
   ]
  },
  {
   "cell_type": "markdown",
   "metadata": {
    "colab_type": "text",
    "id": "8KOgTeZTjFgE"
   },
   "source": [
    "#### 4.4.7: Use of not"
   ]
  },
  {
   "cell_type": "code",
   "execution_count": null,
   "metadata": {
    "colab": {},
    "colab_type": "code",
    "id": "pcn8Zzp0jFgF",
    "scrolled": true
   },
   "outputs": [],
   "source": [
    "#------------------------------------------------------------------------\n",
    "# 4.4.7: Use of not\n",
    "#------------------------------------------------------------------------\n",
    "a = 1\n",
    "b = not a\n",
    "\n",
    "print(a)\n",
    "print(b)\n"
   ]
  },
  {
   "cell_type": "markdown",
   "metadata": {
    "colab_type": "text",
    "id": "gONv9I1xjFgL"
   },
   "source": [
    "#### Re-Run the above code with a=0 | a=10 | a=20"
   ]
  },
  {
   "cell_type": "markdown",
   "metadata": {
    "colab_type": "text",
    "id": "cN5KESe9jFgL"
   },
   "source": [
    "### 4.5: Identity Operators (is, is not)"
   ]
  },
  {
   "cell_type": "code",
   "execution_count": 19,
   "metadata": {
    "colab": {},
    "colab_type": "code",
    "id": "5PefREGzjFgM",
    "scrolled": true
   },
   "outputs": [
    {
     "name": "stdout",
     "output_type": "stream",
     "text": [
      "True\n",
      "False\n",
      "False\n",
      "True\n"
     ]
    }
   ],
   "source": [
    "#------------------------------------------------------------------------\n",
    "# 4.5: Identity Operators (is, is not)\n",
    "#------------------------------------------------------------------------\n",
    "a = 10\n",
    "b = 20\n",
    "print (a is a)\n",
    "print (a is not a)\n",
    "\n",
    "print (a is b)\n",
    "print (a is not b)\n"
   ]
  },
  {
   "cell_type": "markdown",
   "metadata": {
    "colab_type": "text",
    "id": "z-iv3XzvjFgP"
   },
   "source": [
    "### 4.6: Membership Operators (in, not in)"
   ]
  },
  {
   "cell_type": "code",
   "execution_count": 20,
   "metadata": {
    "colab": {},
    "colab_type": "code",
    "id": "RRVqcSfkjFgR",
    "scrolled": true
   },
   "outputs": [
    {
     "name": "stdout",
     "output_type": "stream",
     "text": [
      "True\n",
      "False\n",
      "False\n",
      "True\n"
     ]
    }
   ],
   "source": [
    "#------------------------------------------------------------------------\n",
    "# 4.6: Membership Operators (in, not in)\n",
    "#------------------------------------------------------------------------\n",
    "\n",
    "a = [10, 20, 30]\n",
    "\n",
    "print (10 in a)\n",
    "print (40 in a)\n",
    "\n",
    "print (10 not in a)\n",
    "print (40 not in a)\n"
   ]
  },
  {
   "cell_type": "markdown",
   "metadata": {
    "colab_type": "text",
    "id": "hRNxBEkQjFgV"
   },
   "source": [
    "#### Assingment 4.1: WAP to find max amoung three numbers and input from user [Hint: Try max() function]"
   ]
  },
  {
   "cell_type": "markdown",
   "metadata": {},
   "source": [
    "## 5. Matplotlib.pyplot \n",
    "-Used to visualize data and result of simulation\n",
    "\n",
    "-Works like MATLAB\n"
   ]
  },
  {
   "cell_type": "code",
   "execution_count": 21,
   "metadata": {
    "scrolled": true
   },
   "outputs": [],
   "source": [
    "%matplotlib inline"
   ]
  },
  {
   "cell_type": "code",
   "execution_count": 22,
   "metadata": {
    "scrolled": true
   },
   "outputs": [],
   "source": [
    "a=[1,2, 3, 4] "
   ]
  },
  {
   "cell_type": "code",
   "execution_count": 23,
   "metadata": {
    "scrolled": true
   },
   "outputs": [
    {
     "data": {
      "image/png": "[encoded data removed]",
      "text/plain": [
       "<Figure size 432x288 with 1 Axes>"
      ]
     },
     "metadata": {
      "needs_background": "light"
     },
     "output_type": "display_data"
    }
   ],
   "source": [
    "import matplotlib.pyplot as plt\n",
    "plt.plot(a)\n",
    "plt.ylabel(\"Some Data\")\n",
    "plt.show()"
   ]
  },
  {
   "cell_type": "code",
   "execution_count": 24,
   "metadata": {
    "scrolled": true
   },
   "outputs": [],
   "source": [
    "b= [5,6,4,9]"
   ]
  },
  {
   "cell_type": "code",
   "execution_count": 25,
   "metadata": {
    "scrolled": true
   },
   "outputs": [
    {
     "data": {
      "image/png": "[encoded data removed]",
      "text/plain": [
       "<Figure size 432x288 with 1 Axes>"
      ]
     },
     "metadata": {
      "needs_background": "light"
     },
     "output_type": "display_data"
    }
   ],
   "source": [
    "plt.plot(a,b)\n",
    "plt.ylabel(\"Some Data\")\n",
    "plt.show()"
   ]
  },
  {
   "cell_type": "code",
   "execution_count": 26,
   "metadata": {
    "scrolled": true
   },
   "outputs": [
    {
     "data": {
      "image/png": "[encoded data removed]",
      "text/plain": [
       "<Figure size 432x288 with 1 Axes>"
      ]
     },
     "metadata": {
      "needs_background": "light"
     },
     "output_type": "display_data"
    }
   ],
   "source": [
    "plt.plot(a,b,'ro')\n",
    "plt.ylabel(\"Some Data\")\n",
    "plt.show()"
   ]
  },
  {
   "cell_type": "code",
   "execution_count": 27,
   "metadata": {
    "scrolled": true
   },
   "outputs": [
    {
     "data": {
      "image/png": "[encoded data removed]",
      "text/plain": [
       "<Figure size 432x288 with 1 Axes>"
      ]
     },
     "metadata": {
      "needs_background": "light"
     },
     "output_type": "display_data"
    }
   ],
   "source": [
    "import numpy as np\n",
    "data =  np.arange(0.,5.,0.2)\n",
    "plt.plot(data, data, 'r--', data, data**2, 'bs', data, data**3, 'g^')\n",
    "plt.show()\n"
   ]
  },
  {
   "cell_type": "code",
   "execution_count": 28,
   "metadata": {
    "scrolled": true
   },
   "outputs": [
    {
     "data": {
      "image/png": "[encoded data removed]",
      "text/plain": [
       "<Figure size 432x288 with 1 Axes>"
      ]
     },
     "metadata": {
      "needs_background": "light"
     },
     "output_type": "display_data"
    }
   ],
   "source": [
    "girls_grades = [89, 90, 70, 89, 100, 80, 90, 100, 80, 34]\n",
    "boys_grades = [30, 29, 49, 48, 100, 48, 38, 45, 20, 30]\n",
    "grades_range = [10, 20, 30, 40, 50, 60, 70, 80, 90, 100]\n",
    "\n",
    "fig=plt.figure()\n",
    "\n",
    "ax=fig.add_axes([0,0,1,1])\n",
    "ax.scatter(grades_range, girls_grades, color='r')\n",
    "ax.scatter(grades_range, boys_grades, color='b')\n",
    "\n",
    "ax.set_xlabel('Grades Range')\n",
    "ax.set_ylabel('Grades Scored')\n",
    "ax.set_title('scatter plot')\n",
    "\n",
    "plt.show()\n"
   ]
  },
  {
   "cell_type": "code",
   "execution_count": null,
   "metadata": {},
   "outputs": [],
   "source": []
  }
 ],
 "metadata": {
  "colab": {
   "collapsed_sections": [],
   "name": "Day02 - Basics Of Python - Part 1 (Syntax, Operators, Variable, if-else).ipynb",
   "provenance": []
  },
  "kernelspec": {
   "display_name": "Python 2",
   "language": "python",
   "name": "python2"
  },
  "language_info": {
   "codemirror_mode": {
    "name": "ipython",
    "version": 2
   },
   "file_extension": ".py",
   "mimetype": "text/x-python",
   "name": "python",
   "nbconvert_exporter": "python",
   "pygments_lexer": "ipython2",
   "version": "2.7.15"
  }
 },
 "nbformat": 4,
 "nbformat_minor": 1
}
